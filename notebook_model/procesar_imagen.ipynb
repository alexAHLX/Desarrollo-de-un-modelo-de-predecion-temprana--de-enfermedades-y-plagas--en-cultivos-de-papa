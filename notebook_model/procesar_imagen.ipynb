{
 "cells": [
  {
   "cell_type": "code",
   "execution_count": 1,
   "metadata": {},
   "outputs": [],
   "source": [
    "from PIL import Image\n",
    "import os"
   ]
  },
  {
   "cell_type": "code",
   "execution_count": 4,
   "metadata": {},
   "outputs": [],
   "source": [
    "# Directorio donde están las imágenes\n",
    "input_directory = 'papas_cusco'\n",
    "output_directory = 'papas_cusco_redimensionadas'\n",
    "\n",
    "\n"
   ]
  },
  {
   "cell_type": "code",
   "execution_count": 7,
   "metadata": {},
   "outputs": [
    {
     "name": "stdout",
     "output_type": "stream",
     "text": [
      "Redimensionado y renombrado completado.\n"
     ]
    }
   ],
   "source": [
    "# Si el directorio de salida no existe, lo creamos\n",
    "if not os.path.exists(output_directory):\n",
    "    os.makedirs(output_directory)\n",
    "\n",
    "target_size = (224, 224)\n",
    "\n",
    "contador = 1\n",
    "\n",
    "\n",
    "for root, dirs, files in os.walk(input_directory):\n",
    "    for file in files:\n",
    "        if file.endswith(('png', 'jpeg', 'jpg', 'bmp', 'tiff')):\n",
    "            \n",
    "            image_path = os.path.join(root, file)\n",
    "\n",
    "            \n",
    "            with Image.open(image_path) as img:\n",
    "                if img.mode == 'RGBA':\n",
    "                    img = img.convert('RGB')\n",
    "\n",
    "                img_resized = img.resize(target_size)\n",
    "\n",
    "                \n",
    "                output_file = f'imagen_{contador}.jpg'\n",
    "                contador += 1\n",
    "\n",
    "         \n",
    "                img_resized.save(os.path.join(output_directory, output_file), format='JPEG')\n",
    "\n",
    "print(\"Redimensionado y renombrado completado.\")"
   ]
  },
  {
   "cell_type": "code",
   "execution_count": null,
   "metadata": {},
   "outputs": [],
   "source": []
  },
  {
   "cell_type": "code",
   "execution_count": null,
   "metadata": {},
   "outputs": [],
   "source": []
  }
 ],
 "metadata": {
  "kernelspec": {
   "display_name": "Python 3",
   "language": "python",
   "name": "python3"
  },
  "language_info": {
   "codemirror_mode": {
    "name": "ipython",
    "version": 3
   },
   "file_extension": ".py",
   "mimetype": "text/x-python",
   "name": "python",
   "nbconvert_exporter": "python",
   "pygments_lexer": "ipython3",
   "version": "3.12.6"
  }
 },
 "nbformat": 4,
 "nbformat_minor": 2
}
